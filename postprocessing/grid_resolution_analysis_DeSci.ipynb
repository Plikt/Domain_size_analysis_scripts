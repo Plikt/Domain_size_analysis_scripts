{
 "cells": [
  {
   "cell_type": "code",
   "execution_count": 25,
   "metadata": {},
   "outputs": [],
   "source": [
    "# import modules\n",
    "import os\n",
    "import numpy as np\n",
    "import matplotlib.pyplot as plt\n",
    "import xarray as xr\n",
    "import h5py\n",
    "plt.style.use('default')\n",
    "import re"
   ]
  },
  {
   "cell_type": "code",
   "execution_count": 26,
   "metadata": {},
   "outputs": [],
   "source": [
    "\n",
    "def read_cbd(file_path):\n",
    "    '''\n",
    "    read_cbd: reads the cbd file data\n",
    "    Arguments:\n",
    "    file_path-- path where the file is located\n",
    "    Return--\n",
    "    xr_data-- data_matrix: 3-D matrix of size (N_x, N_y, N_z)\n",
    "          x-coord: 1-D array of  x-coordinates size (N_x,1)\n",
    "          y-coord: 1-D array of  y-coordinates size (N_y,1)\n",
    "          z-coord: 1-D array of  z-coordinates size (N_z,1)\n",
    "    '''\n",
    "    f = open(file_path, \"rb\")\n",
    "    id = np.fromfile(f, dtype=np.int64, count=1)[0]\n",
    "    if id == 288230376151834571:\n",
    "        T = np.float32\n",
    "    elif id == 576460752303546315:\n",
    "        T = np.float64\n",
    "    else:\n",
    "        raise ValueError(\"Invalid ID\")\n",
    "    N = tuple(np.fromfile(f, dtype=np.int64, count=3))\n",
    "    xmin = tuple(np.fromfile(f, dtype=np.float64, count=3))\n",
    "    xmax = tuple(np.fromfile(f, dtype=np.float64, count=3))\n",
    "    x1, x2, x3 = (np.fromfile(f, dtype=np.float64, count=n) for n in N)\n",
    "    data1 = np.fromfile(f, dtype=T, count=np.prod(N)).reshape(N, order=\"F\")\n",
    "    #dic = {\"data\":data1, \"x-coord\":x1, \"y-coord\":x2, \"z-coord\":x3, \"diagonal_points\":[xmin,xmax]}\n",
    "    xr_data = xr.DataArray(\n",
    "        data1,\n",
    "        dims = (\"x\", \"y\", \"z\"),\n",
    "        coords = { \"x\" : x1,\n",
    "                  \"y\" : x2,\n",
    "                  \"z\" : x3\n",
    "        }   \n",
    "    )\n",
    "    f.close()\n",
    "    return xr_data\n",
    "\n",
    "def h5_in_xarray(field):\n",
    "    #hf = h5py.File(filepath, 'r')\n",
    "    data = hf.get('%s' % field)\n",
    "    x1 = hf.get('x-coord')\n",
    "    x2 = hf.get('y-coord')\n",
    "    x3 = hf.get('z-coord')\n",
    "    xr_data = xr.DataArray(\n",
    "        np.array(data),\n",
    "        dims = (\"x\", \"y\", \"z\"),\n",
    "        coords = { \"x\" : np.array(x1),\n",
    "                  \"y\" : np.array(x2),\n",
    "                  \"z\" : np.array(x3)\n",
    "        }   \n",
    "    )\n",
    "    \n",
    "    return xr_data\n",
    "\n",
    "def create_xarray(u):\n",
    "    \n",
    "    # This function creates an xarray that has same data size and coordinates aligned with the input xarray u\n",
    "    new_array = xr.DataArray(\n",
    "        np.empty(u.shape),\n",
    "        dims = (\"x\", \"y\", \"z\"),\n",
    "        coords = { \"x\" : u['x'],\n",
    "              \"y\" : u['y'],\n",
    "              \"z\" : u['z']\n",
    "        }\n",
    "    )\n",
    "    \n",
    "    return new_array"
   ]
  },
  {
   "attachments": {},
   "cell_type": "markdown",
   "metadata": {},
   "source": [
    "### Loading the data"
   ]
  },
  {
   "cell_type": "code",
   "execution_count": 27,
   "metadata": {},
   "outputs": [],
   "source": [
    "filepath = \"/home/as2204/TACC_postprocess/grid_reso_analysis\"\n",
    "sim_list = os.listdir(filepath)\n",
    "sim_list = [match for match in sim_list if \"chan_\" in match]\n",
    "f = {}\n",
    "field_list = ['u', 'v', 'w', 'uu', 'uv', 'uw', 'vv', 'vw', 'ww']\n",
    "\n",
    "for sim in sim_list:\n",
    "    hf = h5py.File('%s/%s' % (filepath, sim), 'r')\n",
    "    for field in field_list:\n",
    "        f['%s%s' % (field, sim[4:-3])] = h5_in_xarray(field)"
   ]
  },
  {
   "cell_type": "code",
   "execution_count": 28,
   "metadata": {},
   "outputs": [],
   "source": [
    "var_list = ['uu', 'uv', 'uw', 'vv', 'vw', 'ww']\n",
    "temp = {}\n",
    "\n",
    "for sim in sim_list:\n",
    "    for v in var_list:\n",
    "        temp[\"%s%s\" % (v, sim[4:-3])] = f[\"%s%s\" % (v, sim[4:-3])].mean(dim = ['x', 'y']) - (f[\"%s%s\" % (v[0], sim[4:-3])] * f[\"%s%s\" % (v[1], sim[4:-3])]).mean(dim = ['x', 'y'])\n",
    "\n",
    "disp = {}\n",
    "\n",
    "for sim in sim_list:\n",
    "    for v in var_list:\n",
    "        disp[\"%s%s\" % (v, sim[4:-3])] = (f[\"%s%s\" % (v[0], sim[4:-3])]*f[\"%s%s\" % (v[1], sim[4:-3])]).mean(dim = ['x', 'y']) - f[\"%s%s\" % (v[0], sim[4:-3])].mean(dim = ['x', 'y']) * f[\"%s%s\" % (v[1], sim[4:-3])].mean(dim = ['x', 'y'])\n",
    "\n",
    "# calculating total stress\n",
    "stress = {}\n",
    "\n",
    "for sim in sim_list:\n",
    "    for v in var_list:\n",
    "        stress[\"%s%s\" % (v, sim[4:-3])] = temp[\"%s%s\" % (v, sim[4:-3])] + disp[\"%s%s\" % (v, sim[4:-3])]"
   ]
  },
  {
   "attachments": {},
   "cell_type": "markdown",
   "metadata": {},
   "source": [
    "### Figure 14"
   ]
  },
  {
   "cell_type": "code",
   "execution_count": 29,
   "metadata": {},
   "outputs": [
    {
     "name": "stdout",
     "output_type": "stream",
     "text": [
      "['u_l6_4x12x24_4x4x8', 'u_l6_4x12x24_6x6x12', 'u_l6_4x12x24_8x8x16']\n",
      "['u_l6_4x12x24_4x4x8', 'u_l6_4x12x24_6x6x12', 'u_l6_4x12x24_8x8x16']\n",
      "['u_l6_4x12x24_4x4x8', 'u_l6_4x12x24_6x6x12', 'u_l6_4x12x24_8x8x16']\n"
     ]
    },
    {
     "data": {
      "text/plain": [
       "Text(0.077, 0.5, '$x_3/h$')"
      ]
     },
     "execution_count": 29,
     "metadata": {},
     "output_type": "execute_result"
    },
    {
     "data": {
      "image/png": "[encoded data removed]",
      "text/plain": [
       "<Figure size 1000x350 with 3 Axes>"
      ]
     },
     "metadata": {},
     "output_type": "display_data"
    }
   ],
   "source": [
    "from matplotlib import rc\n",
    "import matplotlib\n",
    "rc('font',weight='bold',size=15,family='serif',serif='Computer Modern Roman')\n",
    "rc('text', usetex=True)\n",
    "\n",
    "fig1, axs = plt.subplots(nrows=1, ncols=3, figsize=(10, 3.5), sharey=True)\n",
    "\n",
    "pack_den = \"l6\"\n",
    "stats_list = ['u', 'uu', 'uw']\n",
    "for index, stat in enumerate(stats_list):   \n",
    "    key_list = list(f.keys())\n",
    "    key_list = [match for match in key_list if pack_den in match and match.startswith(\"u_\")]\n",
    "\n",
    "    key_list.sort()\n",
    "    print(key_list)\n",
    "    namelist = ['a)', 'b)', 'c)']\n",
    "    clist = ['r', 'b', 'k']\n",
    "    for index1, key in enumerate(key_list):\n",
    "        reso = re.search('.*_(\\d+)x(\\d+)x(\\d+)', key)\n",
    "        reso = (reso.group(3), reso.group(2), reso.group(1))\n",
    "        if len(stat) == 2:\n",
    "            axs[index].plot(stress['%s%s' % (stat, key[1:])], f['%s%s' % (stat, key[1:])]['z'], clist[index1], linewidth=2, label=r'$(%s, %s, %s)$' % (reso[2], reso[1], reso[0]))\n",
    "        else:\n",
    "            axs[index].plot(f['%s%s' % (stat, key[1:])].mean(dim=['x', 'y']), f['%s%s' % (stat, key[1:])]['z'], clist[index1], linewidth=2, label=r'$(N_1, N_2, N_3) = (%s, %s, %s)$' % (reso[2], reso[1], reso[0]))\n",
    "    if index==1:\n",
    "        plt.text(0.125, 0.9, namelist[index], horizontalalignment='center', transform=axs[index].transAxes,fontsize=15)\n",
    "    else:\n",
    "        plt.text(0.1, 0.9, namelist[index], horizontalalignment='center', transform=axs[index].transAxes,fontsize=15)\n",
    "    axs[index].set_ylim(0, 4)\n",
    "axs[2].legend(loc='center left', bbox_to_anchor=(1.05, 0.5), fontsize=12)\n",
    "axs[0].set_xlabel(r'$\\langle\\overline{u}_1\\rangle/u_\\tau$', fontsize=15, labelpad=5)\n",
    "axs[1].set_xlabel(r'$\\langle\\overline{u_1^\\prime u_1^\\prime}\\rangle/u_\\tau^2$', fontsize=15, labelpad=5)\n",
    "axs[2].set_xlabel(r'$\\langle\\overline{u_1^\\prime u_3^\\prime}\\rangle/u_\\tau^2$', fontsize=15, labelpad=5)\n",
    "fig1.text(0.077, 0.5, r'$x_3/h$', ha='center', va='center', rotation='horizontal', fontsize=15)"
   ]
  },
  {
   "cell_type": "code",
   "execution_count": 30,
   "metadata": {},
   "outputs": [],
   "source": [
    "# Computing errors for the plot above\n",
    "from tabulate import tabulate\n",
    "from numpy.linalg import norm\n",
    "\n",
    "def project_to_delta16(ddelta, d16):\n",
    "    n = d16.size\n",
    "    z_grid = np.linspace(ddelta['z'][0], ddelta['z'][-1], n)\n",
    "    vel_intp = ddelta.interp(z = z_grid)\n",
    "    return vel_intp\n",
    "\n",
    "def compute_norms_domhimpact(pack_den):\n",
    "    key_list = list(f.keys())\n",
    "    key_list = [match for match in key_list if pack_den in match and match.startswith(\"u_\")]\n",
    "    key_list.sort()\n",
    "    print(key_list)\n",
    "\n",
    "    truth = f[\"%s\" % key_list[-1]].mean(dim = ['x', 'y'])\n",
    "    norms = [[], [], []]\n",
    "    for index, key in enumerate(key_list[:-1]):\n",
    "        norms[index].append(key)\n",
    "        val = f[\"%s\" % key].mean(dim = ['x', 'y'])\n",
    "        val_intp = project_to_delta16(val, truth)\n",
    "        error = val_intp.values - truth.values\n",
    "        l2 = norm(error, ord=2) / norm(truth.values, ord=2)\n",
    "        norms[index].append(\"%.4f\" % l2)\n",
    "\n",
    "    print(tabulate(norms, headers=[\"key\", \"error\"]))\n",
    "    return None\n",
    "\n",
    "def compute_norms_domhimpact_stress(pack_den, var):\n",
    "    key_list = list(f.keys())\n",
    "    key_list = [match for match in key_list if pack_den in match and match.startswith(\"u_\")]\n",
    "    key_list.sort()\n",
    "    print(key_list)\n",
    "\n",
    "    truth = stress[\"%s%s\" % (var, key_list[-1][1:])]\n",
    "    norms = [[], [], []]\n",
    "    for index, key in enumerate(key_list[:-1]):\n",
    "        norms[index].append(key)\n",
    "        val = stress[\"%s%s\" % (var, key[1:])]\n",
    "        val_intp = project_to_delta16(val, truth)\n",
    "        error = val_intp.values - truth.values\n",
    "        l2 = norm(error, ord=2) / norm(truth.values, ord=2)\n",
    "        norms[index].append(\"%.4f\" % l2)\n",
    "\n",
    "    print(tabulate(norms, headers=[\"key\", \"error\"]))\n",
    "    return None"
   ]
  },
  {
   "cell_type": "code",
   "execution_count": 31,
   "metadata": {},
   "outputs": [
    {
     "name": "stdout",
     "output_type": "stream",
     "text": [
      "['u_l6_4x12x24_4x4x8', 'u_l6_4x12x24_6x6x12', 'u_l6_4x12x24_8x8x16']\n",
      "key                    error\n",
      "-------------------  -------\n",
      "u_l6_4x12x24_4x4x8    0.0292\n",
      "u_l6_4x12x24_6x6x12   0.0183\n",
      "\n",
      "['u_l6_4x12x24_4x4x8', 'u_l6_4x12x24_6x6x12', 'u_l6_4x12x24_8x8x16']\n",
      "key                    error\n",
      "-------------------  -------\n",
      "u_l6_4x12x24_4x4x8    0.0919\n",
      "u_l6_4x12x24_6x6x12   0.0687\n",
      "\n",
      "['u_l6_4x12x24_4x4x8', 'u_l6_4x12x24_6x6x12', 'u_l6_4x12x24_8x8x16']\n",
      "key                    error\n",
      "-------------------  -------\n",
      "u_l6_4x12x24_4x4x8    0.0538\n",
      "u_l6_4x12x24_6x6x12   0.0269\n",
      "\n"
     ]
    }
   ],
   "source": [
    "compute_norms_domhimpact(\"l6\")\n",
    "compute_norms_domhimpact_stress(\"l6\", 'uu')\n",
    "compute_norms_domhimpact_stress(\"l6\", 'uw')"
   ]
  }
 ],
 "metadata": {
  "kernelspec": {
   "display_name": "Python 3.6.9 64-bit",
   "language": "python",
   "name": "python3"
  },
  "language_info": {
   "codemirror_mode": {
    "name": "ipython",
    "version": 3
   },
   "file_extension": ".py",
   "mimetype": "text/x-python",
   "name": "python",
   "nbconvert_exporter": "python",
   "pygments_lexer": "ipython3",
   "version": "3.6.9"
  },
  "orig_nbformat": 4,
  "vscode": {
   "interpreter": {
    "hash": "31f2aee4e71d21fbe5cf8b01ff0e069b9275f58929596ceb00d14d90e3e16cd6"
   }
  }
 },
 "nbformat": 4,
 "nbformat_minor": 2
}

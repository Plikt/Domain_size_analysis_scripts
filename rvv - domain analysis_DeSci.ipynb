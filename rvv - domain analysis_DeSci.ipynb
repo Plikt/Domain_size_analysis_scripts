{
 "cells": [
  {
   "cell_type": "code",
   "execution_count": 1,
   "id": "olympic-council",
   "metadata": {
    "ExecuteTime": {
     "end_time": "2022-02-11T21:48:22.068669Z",
     "start_time": "2022-02-11T21:48:12.607570Z"
    }
   },
   "outputs": [],
   "source": [
    "import os\n",
    "import numpy as np\n",
    "import matplotlib.pyplot as plt\n",
    "import xarray as xr\n",
    "import h5py\n",
    "from scipy.optimize import curve_fit\n",
    "from scipy.interpolate import interp1d\n",
    "from scipy.interpolate import make_interp_spline, BSpline\n",
    "\n",
    "import re\n",
    "pattern = re.compile(r'\\d+') "
   ]
  },
  {
   "cell_type": "code",
   "execution_count": 2,
   "id": "accompanied-uniform",
   "metadata": {
    "ExecuteTime": {
     "end_time": "2022-02-11T21:48:22.085114Z",
     "start_time": "2022-02-11T21:48:22.070185Z"
    }
   },
   "outputs": [],
   "source": [
    "#%%file function_definitions.py\n",
    "\n",
    "def h5_in_xarray(field):\n",
    "    data = hf.get('%s' % field)\n",
    "    x1 = hf.get('x-coord')\n",
    "    x2 = hf.get('y-coord')\n",
    "    x3 = hf.get('z-coord')\n",
    "    xr_data = xr.DataArray(\n",
    "        np.array(data),\n",
    "        dims = (\"x\", \"y\", \"z\"),\n",
    "        coords = { \"x\" : np.array(x1),\n",
    "                  \"y\" : np.array(x2),\n",
    "                  \"z\" : np.array(x3)\n",
    "        }   \n",
    "    )\n",
    "    \n",
    "    return xr_data\n",
    "\n",
    "def create_xarray(u):\n",
    "    \n",
    "    # This function creates an xarray that has same data size and coordinates aligned with the input xarray u\n",
    "    new_array = xr.DataArray(\n",
    "        np.empty(u.shape),\n",
    "        dims = (\"x\", \"y\", \"z\"),\n",
    "        coords = { \"x\" : u['x'],\n",
    "              \"y\" : u['y'],\n",
    "              \"z\" : u['z']\n",
    "        }\n",
    "    )\n",
    "    \n",
    "    return new_array\n",
    "\n",
    "def intp_w_to_uvp(w, u):\n",
    "    \n",
    "    # This function interpolates w to uvp nodes\n",
    "    w_intp = create_xarray(u)\n",
    "    w_intp[:, :, :-1] = w.interp(z = u['z'][:-1])\n",
    "    w_intp[:, :, u['z'].size - 1] = 0\n",
    "    \n",
    "    return w_intp"
   ]
  },
  {
   "cell_type": "code",
   "execution_count": 3,
   "id": "pleasant-renewal",
   "metadata": {
    "ExecuteTime": {
     "end_time": "2022-02-11T21:48:23.792182Z",
     "start_time": "2022-02-11T21:48:22.088674Z"
    }
   },
   "outputs": [],
   "source": [
    "# Let's load the entire data\n",
    "path = \"/Users/erikvanwinkle/Documents/DeSci Labs_files/Marco Node/Node Data/Processed Data\"\n",
    "f = {} # Loads all the variables\n",
    "h5_files = os.listdir('%s/pressure_corrected_domain_averages' % path)\n",
    "h5_files = [match for match in h5_files if \"rvv\" in match and \"_16x\" not in match and \"_12x\" not in match]\n",
    "filepath = '%s/pressure_corrected_domain_averages' % path\n",
    "\n",
    "for sim in h5_files:\n",
    "    hf = h5py.File('%s/%s' % (filepath, sim), 'r')\n",
    "    f['rvv%s' % (sim[8:-3])] = h5_in_xarray('v_rii')"
   ]
  },
  {
   "cell_type": "code",
   "execution_count": 4,
   "id": "irish-statistics",
   "metadata": {
    "ExecuteTime": {
     "end_time": "2022-02-11T21:48:41.166932Z",
     "start_time": "2022-02-11T21:48:23.793462Z"
    }
   },
   "outputs": [],
   "source": [
    "h5_files = os.listdir('%s/pressure_corrected_domain_averages' % path)\n",
    "h5_files = [match for match in h5_files if \"restart0\" in match and \"_16x\" in match and 'rvv' in match and 'run2' not in match]\n",
    "for sim in h5_files:\n",
    "    sim = sim[8:-12]\n",
    "    i = 0\n",
    "    sim_name = \"rvv_chan%s_restart%d.h5\" % (sim, i)\n",
    "    hf = h5py.File('%s/%s' % (filepath, sim_name), 'r')\n",
    "    f['rvv%s' % (sim)] = h5_in_xarray('v_rii')\n",
    "    \n",
    "    for i in range(1, 4):\n",
    "        sim_name = \"rvv_chan%s_restart%d.h5\" % (sim, i)\n",
    "        hf = h5py.File('%s/%s' % (filepath, sim_name), 'r')\n",
    "        f['rvv%s' % (sim)] += h5_in_xarray('v_rii')\n",
    "\n",
    "    if \"l2_16x48\" in sim or \"l2_16x72\" in sim:\n",
    "        for i in range(4):\n",
    "            sim_name = \"rvv_chan%s_restart%d_run2.h5\" % (sim, i)\n",
    "            hf = h5py.File('%s/%s' % (filepath, sim_name), 'r')\n",
    "            f['rvv%s' % (sim)] += h5_in_xarray('v_rii')\n",
    "        f['rvv%s' % (sim)] /= 8\n",
    "    else:\n",
    "        f['rvv%s' % (sim)] /= 4"
   ]
  },
  {
   "cell_type": "code",
   "execution_count": 5,
   "id": "26cb0a25",
   "metadata": {},
   "outputs": [],
   "source": [
    "h5_files = os.listdir('%s/longerx_averages' % path)\n",
    "h5_files = [match for match in h5_files if \"restart0\" in match and 'rvv' in match and 'run2' not in match]\n",
    "filepath = '%s/longerx_averages' % path\n",
    "for sim_ in h5_files:\n",
    "    pattern = re.search('rvv_chan(_l\\d+_\\d+x\\d+x\\d+)_.*', sim_)\n",
    "    sim = pattern.group(1)\n",
    "    i = 0\n",
    "    sim_name = \"rvv_chan%s_restart%d.h5\" % (sim, i)\n",
    "    hf = h5py.File('%s/%s' % (filepath, sim_name), 'r')\n",
    "    f['rvv%s' % (sim)] = h5_in_xarray('v_rii')\n",
    "    \n",
    "    for i in range(1, 4):\n",
    "        sim_name = \"rvv_chan%s_restart%d.h5\" % (sim, i)\n",
    "        hf = h5py.File('%s/%s' % (filepath, sim_name), 'r')\n",
    "        f['rvv%s' % (sim)] += h5_in_xarray('v_rii')\n",
    "        \n",
    "    f['rvv%s' % (sim)] /= 4"
   ]
  },
  {
   "cell_type": "code",
   "execution_count": 6,
   "id": "ancient-contemporary",
   "metadata": {
    "ExecuteTime": {
     "end_time": "2022-02-11T21:48:54.084540Z",
     "start_time": "2022-02-11T21:48:41.408825Z"
    }
   },
   "outputs": [],
   "source": [
    "# Loading variance data\n",
    "field_list = ['v', 'vv']\n",
    "h5_files = os.listdir('%s/pressure_corrected_domain_averages' % path)\n",
    "h5_files = [match for match in h5_files if \"chan\" in match and \"_16x\" not in match and \"_12x\" not in match and \"ruu\" not in match and \"rvv\" not in match]\n",
    "filepath = '%s/pressure_corrected_domain_averages' % path\n",
    "\n",
    "for sim in h5_files:\n",
    "    hf = h5py.File('%s/%s' % (filepath, sim), 'r')\n",
    "    for field in field_list:\n",
    "        f['%s%s' % (field, sim[4:-3])] = h5_in_xarray(field)\n",
    "        \n",
    "h5_files = os.listdir('%s/pressure_corrected_domain_averages' % path)\n",
    "h5_files = [match for match in h5_files if \"restart0\" in match and \"_12x\" not in match and \"ruu\" not in match and \"rvv\" not in match and \"run2\" not in match]\n",
    "for sim in h5_files:\n",
    "    sim = sim[4:-12]\n",
    "    i = 0\n",
    "    sim_name = \"chan%s_restart%d.h5\" % (sim, i)\n",
    "    hf = h5py.File('%s/%s' % (filepath, sim_name), 'r')\n",
    "    for field in field_list:\n",
    "        f['%s%s' % (field, sim)] = h5_in_xarray(field)\n",
    "    \n",
    "    for i in range(1, 4):\n",
    "        sim_name = \"chan%s_restart%d.h5\" % (sim, i)\n",
    "        hf = h5py.File('%s/%s' % (filepath, sim_name), 'r')\n",
    "        for field in field_list:\n",
    "            f['%s%s' % (field, sim)] += h5_in_xarray(field)\n",
    "\n",
    "    if \"l2_16x48\" in sim or \"l2_16x72\" in sim:\n",
    "        for i in range(4):\n",
    "            sim_name = \"chan%s_restart%d_run2.h5\" % (sim, i)\n",
    "            hf = h5py.File('%s/%s' % (filepath, sim_name), 'r')\n",
    "            for field in field_list:\n",
    "                f['%s%s' % (field, sim)] += h5_in_xarray(field)\n",
    "        \n",
    "        for field in field_list:\n",
    "            f['%s%s' % (field, sim)] /= 8\n",
    "    else:\n",
    "        for field in field_list:\n",
    "            f['%s%s' % (field, sim)] /= 4\n",
    "\n",
    "\n",
    "h5_files = os.listdir('%s/longerx_averages' % path)\n",
    "filepath = '%s/longerx_averages' % path\n",
    "h5_files = [match for match in h5_files if \"restart0\" in match and \"ruu\" not in match and \"rvv\" not in match and \"run2\" not in match]\n",
    "for sim in h5_files:\n",
    "    sim = sim[4:-12]\n",
    "    i = 0\n",
    "    sim_name = \"chan%s_restart%d.h5\" % (sim, i)\n",
    "    hf = h5py.File('%s/%s' % (filepath, sim_name), 'r')\n",
    "    for field in field_list:\n",
    "        f['%s%s' % (field, sim)] = h5_in_xarray(field)\n",
    "    \n",
    "    for i in range(1, 4):\n",
    "        sim_name = \"chan%s_restart%d.h5\" % (sim, i)\n",
    "        hf = h5py.File('%s/%s' % (filepath, sim_name), 'r')\n",
    "        for field in field_list:\n",
    "            f['%s%s' % (field, sim)] += h5_in_xarray(field)\n",
    "\n",
    "    for field in field_list:\n",
    "        f['%s%s' % (field, sim)] /= 4"
   ]
  },
  {
   "cell_type": "code",
   "execution_count": 7,
   "id": "romance-recommendation",
   "metadata": {
    "ExecuteTime": {
     "end_time": "2022-02-11T21:48:57.507200Z",
     "start_time": "2022-02-11T21:48:54.086045Z"
    }
   },
   "outputs": [],
   "source": [
    "# Now, I need to load the uu variance to normalize autocorrelation\n",
    "h5_files_list = os.listdir('%s/pressure_corrected_domain_averages' % path)\n",
    "h5_files = [match[4:-3] for match in h5_files_list if \"_16x\" not in match and \"_12x\" not in match and \"chan\" in match and \"ruu\" not in match and \"rvv\" not in match]\n",
    "h5_files_16 = [match[4:-12] for match in h5_files_list if \"restart0\" in match and \"_16x\" in match and \"ruu\" not in match and \"rvv\" not in match and \"run2\" not in match]\n",
    "h5_files_longerx = os.listdir('%s/longerx_averages' % path)\n",
    "h5_files_longerx = [match[4:-12] for match in h5_files_longerx if \"restart0\" in match and \"ruu\" not in match and \"rvv\" not in match and \"run2\" not in match]\n",
    "h5_files += h5_files_longerx + h5_files_16\n",
    "\n",
    "var_list = ['vv']\n",
    "temp = {}\n",
    "\n",
    "for sim in h5_files:\n",
    "    for v in var_list:\n",
    "        temp[\"%s%s\" % (v, sim)] = f[\"%s%s\" % (v, sim)].mean(dim = ['x', 'y']) - (f[\"%s%s\" % (v[0], sim)] * f[\"%s%s\" % (v[1], sim)]).mean(dim = ['x', 'y'])\n",
    "        \n",
    "disp = {}\n",
    "\n",
    "for sim in h5_files:\n",
    "    for v in var_list:\n",
    "        disp[\"%s%s\" % (v, sim)] = (f[\"%s%s\" % (v[0], sim)]*f[\"%s%s\" % (v[1], sim)]).mean(dim = ['x', 'y']) - f[\"%s%s\" % (v[0], sim)].mean(dim = ['x', 'y']) * f[\"%s%s\" % (v[1], sim)].mean(dim = ['x', 'y'])\n",
    "        \n",
    "stress = {}\n",
    "\n",
    "for sim in h5_files:\n",
    "    for v in var_list:\n",
    "        stress[\"%s%s\" % (v, sim)] = temp[\"%s%s\" % (v, sim)] + disp[\"%s%s\" % (v, sim)]     "
   ]
  },
  {
   "cell_type": "code",
   "execution_count": 8,
   "id": "blond-blast",
   "metadata": {
    "ExecuteTime": {
     "end_time": "2022-02-11T21:49:55.436888Z",
     "start_time": "2022-02-11T21:49:55.434134Z"
    }
   },
   "outputs": [],
   "source": [
    "key_list = list(f.keys())\n",
    "key_list = [match[4:] for match in key_list if \"rvv\" in match]"
   ]
  },
  {
   "cell_type": "code",
   "execution_count": 9,
   "id": "closing-nashville",
   "metadata": {
    "ExecuteTime": {
     "end_time": "2022-02-11T21:48:58.671966Z",
     "start_time": "2022-02-11T21:48:57.512061Z"
    }
   },
   "outputs": [],
   "source": [
    "norm_rii={}\n",
    "\n",
    "for key in key_list:\n",
    "    norm_rii[\"%s\" % key] = f[\"rvv_%s\" % key] / stress[\"vv_%s\" % key]"
   ]
  },
  {
   "cell_type": "code",
   "execution_count": 10,
   "id": "missing-spirit",
   "metadata": {
    "ExecuteTime": {
     "end_time": "2022-02-11T21:54:33.188474Z",
     "start_time": "2022-02-11T21:54:33.175827Z"
    }
   },
   "outputs": [],
   "source": [
    "def shift_quadrants(xarray):\n",
    "    shifted_array = np.empty(xarray.shape)\n",
    "    lx = int(len(xarray['x']) / 2)\n",
    "    ly = int(len(xarray['y']) / 2)\n",
    "    \n",
    "    shifted_array[:lx, :ly, :] = xarray[lx:, ly:, :].values\n",
    "    shifted_array[lx:, :ly, :] = xarray[:lx, ly:, :].values\n",
    "    shifted_array[:lx, ly:, :] = xarray[lx:, :ly, :].values\n",
    "    shifted_array[lx:, ly:, :] = xarray[:lx, :ly, :].values\n",
    "    \n",
    "    shifted_x = xarray['x'] - (xarray['x'][-1]) / 2\n",
    "    shifted_y = xarray['y'] - (xarray['y'][-1]) / 2\n",
    "    return shifted_array, shifted_x, shifted_y"
   ]
  },
  {
   "cell_type": "code",
   "execution_count": 11,
   "id": "chubby-planner",
   "metadata": {},
   "outputs": [],
   "source": [
    "# Now I need to find out the integral length scale based on quadrant data\n",
    "def output_quadrant(key):\n",
    "    \n",
    "    norm_rii['%s' % key] = norm_rii['%s' % key] / norm_rii['%s' % key].max()\n",
    "    lx = int(len(norm_rii['%s' % key]['x']) / 2)\n",
    "    ly = int(len(norm_rii['%s' % key]['y']) / 2)\n",
    "    quadrant = norm_rii['%s' % key][:lx, :ly, :]\n",
    "    \n",
    "    return quadrant\n",
    "\n",
    "def output_yloc(xarray, z, cutoff_val):\n",
    "    # This function outputs xloc of cutoff value for a given z\n",
    "    for i in range(xarray['y'].size):\n",
    "        if xarray[0, i, z] < cutoff_val:\n",
    "            break;\n",
    "\n",
    "    # also calculating residual length (which is smaller than the grid size based on interpolation)\n",
    "    left_val = xarray[0, i-1, z].values\n",
    "    right_val = xarray[0, i, z].values\n",
    "    dr = (xarray['y'][1] - xarray['y'][0]).values\n",
    "    delta_req   = left_val - cutoff_val\n",
    "    delta_grid = left_val - right_val\n",
    "    residual = dr * delta_req / delta_grid \n",
    "    return i , residual\n",
    "\n",
    "def calc_L22(xarray, cutoff):\n",
    "    # Calculating integral length scale for the quadrant\n",
    "    \n",
    "    znodes = xarray['z'].size \n",
    "    l = np.empty(znodes)\n",
    "    dr = xarray['y'][1] - xarray['y'][0]\n",
    "    \n",
    "    for i in range(znodes):\n",
    "        y_loc, residual = output_yloc(xarray, i, cutoff)\n",
    "        l[i] = np.sum(xarray[0, :y_loc - 1, i]) * dr.values  + xarray[0, y_loc - 1, i] * residual\n",
    "    \n",
    "    return l"
   ]
  },
  {
   "attachments": {},
   "cell_type": "markdown",
   "id": "16847380",
   "metadata": {},
   "source": [
    "### Figure 6"
   ]
  },
  {
   "cell_type": "code",
   "execution_count": 12,
   "id": "88870309",
   "metadata": {},
   "outputs": [
    {
     "data": {
      "text/plain": [
       "Text(0.055, 0.5, '$x_3/L_3$')"
      ]
     },
     "execution_count": 12,
     "metadata": {},
     "output_type": "execute_result"
    },
    {
     "data": {
      "image/png": "[encoded data removed]",
      "text/plain": [
       "<Figure size 1000x350 with 4 Axes>"
      ]
     },
     "metadata": {},
     "output_type": "display_data"
    }
   ],
   "source": [
    "from matplotlib import rc\n",
    "import matplotlib\n",
    "rc('font',weight='bold',size=15,family='serif',serif='Computer Modern Roman')\n",
    "rc('text', usetex=True)\n",
    "pattern = re.compile(r'\\d+')\n",
    "\n",
    "fig1, axs = plt.subplots(nrows=1, ncols=4, figsize=(10,3.5), sharey=True)\n",
    "\n",
    "pack_list = [\"l2\", \"l4\", \"l6\", \"l12\"]\n",
    "for index, pack_den in enumerate(pack_list):   \n",
    "    key_list = [\"%s_16x24x96\" % pack_den, \"%s_16x48x96\" % pack_den, \"%s_16x72x96\" % pack_den]\n",
    "    namelist = ['a)', 'b)', 'c)', 'd)']\n",
    "    clist = ['r', 'b', 'k']\n",
    "    for index1, key in enumerate(key_list):\n",
    "        match = pattern.findall(key)\n",
    "        delta = int(match[1])\n",
    "        ly = int(match[2])\n",
    "        quadrant = output_quadrant(key)\n",
    "        l22 = calc_L22(quadrant, 0.4)\n",
    "        if index == 3:\n",
    "            axs[index].plot(l22[:80], quadrant['z'][:80] / delta, clist[index1], linewidth=2, label='YAR = %.1f' % float(ly/delta))\n",
    "        else:\n",
    "            axs[index].plot(l22[:80], quadrant['z'][:80] / delta, clist[index1], linewidth=2)\n",
    "    plt.text(0.1, 0.9, namelist[index], horizontalalignment='center', transform=axs[index].transAxes,fontsize=15)\n",
    "    axs[index].set_ylim(0, 0.6)\n",
    "    axs[index].set_xlim(0.1, 2.9)\n",
    "    axs[index].set_xticks([1, 2])\n",
    "    axs[index].plot(np.linspace(0.1, 2.9, 20), np.ones(20) * 1/delta, color='mediumorchid', linestyle='dashed', linewidth=1.5, label='UCL height')\n",
    "axs[3].legend(loc='center left', bbox_to_anchor=(1.1, 0.5), fontsize=12)\n",
    "fig1.text(0.5, 0, r'$L_{22}$', ha='center', va='center', fontsize=15)\n",
    "fig1.text(0.055, 0.5, r'$x_3/L_3$', ha='center', va='center', rotation='horizontal', fontsize=15)\n"
   ]
  }
 ],
 "metadata": {
  "interpreter": {
   "hash": "31f2aee4e71d21fbe5cf8b01ff0e069b9275f58929596ceb00d14d90e3e16cd6"
  },
  "kernelspec": {
   "display_name": "Python 3.6.9 64-bit",
   "language": "python",
   "name": "python3"
  },
  "language_info": {
   "codemirror_mode": {
    "name": "ipython",
    "version": 3
   },
   "file_extension": ".py",
   "mimetype": "text/x-python",
   "name": "python",
   "nbconvert_exporter": "python",
   "pygments_lexer": "ipython3",
   "version": "3.9.6"
  }
 },
 "nbformat": 4,
 "nbformat_minor": 5
}
